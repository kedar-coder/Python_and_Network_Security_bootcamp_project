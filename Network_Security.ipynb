{
  "nbformat": 4,
  "nbformat_minor": 0,
  "metadata": {
    "colab": {
      "name": "Network_Security.ipynb",
      "provenance": []
    },
    "kernelspec": {
      "name": "python3",
      "display_name": "Python 3"
    },
    "language_info": {
      "name": "python"
    }
  },
  "cells": [
    {
      "cell_type": "code",
      "metadata": {
        "id": "6ZsXp3vZwAml"
      },
      "source": [
        "import hashlib"
      ],
      "execution_count": 2,
      "outputs": []
    },
    {
      "cell_type": "code",
      "metadata": {
        "colab": {
          "base_uri": "https://localhost:8080/"
        },
        "id": "UHGB_anFwVR_",
        "outputId": "bbeba96c-e943-4956-8649-7e0a8421d737"
      },
      "source": [
        "print(hashlib.algorithms_available)"
      ],
      "execution_count": 3,
      "outputs": [
        {
          "output_type": "stream",
          "text": [
            "{'md5', 'sha384', 'sha256', 'blake2s', 'sha3_384', 'sha1', 'sha512', 'sha224', 'sha3_256', 'sha3_512', 'shake_256', 'blake2b', 'sha3_224', 'shake_128'}\n"
          ],
          "name": "stdout"
        }
      ]
    },
    {
      "cell_type": "code",
      "metadata": {
        "colab": {
          "base_uri": "https://localhost:8080/"
        },
        "id": "xzFdU0Sa3c5-",
        "outputId": "438f286a-89ea-45db-f1a2-683907068b81"
      },
      "source": [
        "print(hashlib.algorithms_guaranteed)"
      ],
      "execution_count": 20,
      "outputs": [
        {
          "output_type": "stream",
          "text": [
            "{'md5', 'sha384', 'sha256', 'blake2s', 'sha3_384', 'sha1', 'sha512', 'sha224', 'sha3_256', 'sha3_512', 'shake_256', 'blake2b', 'sha3_224', 'shake_128'}\n"
          ],
          "name": "stdout"
        }
      ]
    },
    {
      "cell_type": "code",
      "metadata": {
        "colab": {
          "base_uri": "https://localhost:8080/"
        },
        "id": "ZpXd7RVO2N_J",
        "outputId": "49bb1d2c-73cf-456e-aa7e-0029105747d1"
      },
      "source": [
        "# using the md5 hashing algo\n",
        "hash_func = hashlib.md5()\n",
        "# string that we want to change\n",
        "your_name=input(\"What is your name \\n\")\n",
        "# encoding the string to pass into update()\n",
        "encoded_string=your_name.encode()\n",
        "# Passing the string into update()\n",
        "hash_func.update(encoded_string)\n",
        "# Saving the new string using hexdigest()\n",
        "message=hash_func.hexdigest()\n",
        "print(message)"
      ],
      "execution_count": 18,
      "outputs": [
        {
          "output_type": "stream",
          "text": [
            "What is your name \n",
            "Shubham\n",
            "7894debad19a114b7d584359c33af99c\n"
          ],
          "name": "stdout"
        }
      ]
    },
    {
      "cell_type": "code",
      "metadata": {
        "colab": {
          "base_uri": "https://localhost:8080/"
        },
        "id": "1BxwgoFc3vnZ",
        "outputId": "f042741d-e02d-434b-8117-50dc4e73b816"
      },
      "source": [
        "# using the sha1 hashing algo\n",
        "hash_func = hashlib.sha1()\n",
        "# string that we want to change\n",
        "your_name=input(\"What is your name \\n\")\n",
        "# encoding the string to pass into update()\n",
        "encoded_string=your_name.encode()\n",
        "# Passing the string into update()\n",
        "hash_func.update(encoded_string)\n",
        "# Saving the new string using hexdigest()\n",
        "message=hash_func.hexdigest()\n",
        "print(message)"
      ],
      "execution_count": 22,
      "outputs": [
        {
          "output_type": "stream",
          "text": [
            "What is your name \n",
            "Shubham\n",
            "d87ee5b02f19d302b77d739251b54dffc7e50b79\n"
          ],
          "name": "stdout"
        }
      ]
    },
    {
      "cell_type": "code",
      "metadata": {
        "colab": {
          "base_uri": "https://localhost:8080/"
        },
        "id": "wupxuCqVzvSj",
        "outputId": "c73c246b-d99f-4149-f717-5597933d40cb"
      },
      "source": [
        "# using the blake2b hashing algo\n",
        "hash_func = hashlib.blake2b()\n",
        "# string that we want to change\n",
        "your_name=input(\"What is your name \\n\")\n",
        "# encoding the string to pass into update()\n",
        "encoded_string=your_name.encode()\n",
        "# Passing the string into update()\n",
        "hash_func.update(encoded_string)\n",
        "# Saving the new string using hexdigest()\n",
        "message=hash_func.hexdigest()\n",
        "print(message)"
      ],
      "execution_count": 21,
      "outputs": [
        {
          "output_type": "stream",
          "text": [
            "What is your name \n",
            "Shubham\n",
            "30bed7b613b6676a4af938a933145cf67ad593e2c2be0955a5141fe7c51b807e4b05acaa7c6c986f4713ba5d8bb4be4a829863d0fe657e9e90cf027851e3a9a3\n"
          ],
          "name": "stdout"
        }
      ]
    },
    {
      "cell_type": "code",
      "metadata": {
        "colab": {
          "base_uri": "https://localhost:8080/"
        },
        "id": "DIEnkgT44UqJ",
        "outputId": "4565f25a-f591-48de-c257-007bb119d7a7"
      },
      "source": [
        "# using the sha512 hashing algo\n",
        "hash_func = hashlib.sha512()\n",
        "# string that we want to change\n",
        "your_name=input(\"What is your name \\n\")\n",
        "# encoding the string to pass into update()\n",
        "encoded_string=your_name.encode()\n",
        "# Passing the string into update()\n",
        "hash_func.update(encoded_string)\n",
        "# Saving the new string using hexdigest()\n",
        "message=hash_func.hexdigest()\n",
        "print(message)"
      ],
      "execution_count": 26,
      "outputs": [
        {
          "output_type": "stream",
          "text": [
            "What is your name \n",
            "Shubham\n",
            "e0b457aa13ce38722e1bb3c684903cb8023cc6892616ef313b754a6cda7fb4d7135612ed4fcff1765983e46b6d2a3c63eb782ef7474acaf258a2b01aa1d053df\n"
          ],
          "name": "stdout"
        }
      ]
    }
  ]
}